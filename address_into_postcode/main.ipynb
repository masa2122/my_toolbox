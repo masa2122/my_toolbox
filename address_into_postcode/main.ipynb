{
 "cells": [
  {
   "attachments": {},
   "cell_type": "markdown",
   "metadata": {},
   "source": [
    "# 所在から郵便番号変換"
   ]
  },
  {
   "cell_type": "code",
   "execution_count": 90,
   "metadata": {},
   "outputs": [],
   "source": [
    "import pandas as pd\n",
    "import unicodedata\n",
    "import re\n",
    "\n",
    "# 郵便番号の設定\n",
    "post_df = pd.read_csv('郵便番号.csv',encoding = \"shift-jis\", header=None, names=['post_code', 'prefecture', 'city', 'town'])\n",
    "post_df['address'] = post_df['city'] + post_df['town'].fillna('')\n",
    "\n",
    "class post_code():\n",
    "    \n",
    "    def __init__(self):\n",
    "        self.post_code= 0\n",
    "        self.score_dict = {}\n",
    "\n",
    "    def processing(self, address):\n",
    "        \n",
    "        #数字を小文字へ\n",
    "        address_new = unicodedata.normalize('NFKC', str(address))\n",
    "        # 丁目の前の漢数字を英数字へ\n",
    "        address_new = address_new.replace('一丁目', '1丁目').replace('二丁目', '2丁目').replace('三丁目', '3丁目').replace('四丁目', '4丁目').replace('五丁目', '5丁目').replace('六丁目', '6丁目').replace('七丁目', '7丁目').replace('八丁目', '8丁目').replace('九丁目', '9丁目')\n",
    "        address_new = address_new.replace('-', '').replace('ー', '')\n",
    "        # 丁目、番地などを削除\n",
    "        address_new = re.sub(r\"\\d+丁目|\\d+番地|\\d+番|\\d+号\", \"\", address_new)\n",
    "        address_new = re.sub(r\"\\d+$\", \"\", address_new)\n",
    "        return address_new\n",
    "    \n",
    "    def to_post(self, address):\n",
    "        \n",
    "        prefecture = address[:4]\n",
    "        if '都' in prefecture:\n",
    "            prefecture = re.match(r\"^(.+?都)\",prefecture).group(1)\n",
    "        elif '県' in prefecture:\n",
    "            prefecture = re.match(r\"^(.+?県)\",prefecture).group(1)\n",
    "        elif '府' in prefecture:\n",
    "            prefecture = re.match(r\"^(.+?府)\",prefecture).group(1)\n",
    "        elif '道' in prefecture:\n",
    "            prefecture = re.match(r\"^(.+?道)\",prefecture).group(1)\n",
    "\n",
    "        \n",
    "        choose_df = post_df[post_df['prefecture'] == prefecture]\n",
    "        address_new = address.replace(prefecture, '')\n",
    "\n",
    "        for index in choose_df.index:\n",
    "            text = choose_df['address'].loc[choose_df.index == index]\n",
    "            text = str(text)\n",
    "            count = 0\n",
    "            for word in address_new:\n",
    "\n",
    "                word= str(word)\n",
    "                if word in text:\n",
    "                    count += 1\n",
    "            self.score_dict[index] = count\n",
    "            \n",
    "        # print(sorted(self.score_dict.items(), key=lambda x: x[1], reverse=True))\n",
    " \n",
    "        post_code = choose_df['post_code'].loc[choose_df.index == max(self.score_dict, key=self.score_dict.get)].values[0]\n",
    "        post_code = str(post_code)\n",
    "        post_code = post_code[:3] + '-' + post_code[3:]\n",
    "        return post_code\n",
    "\n",
    "    def run(self, address):\n",
    "        address_new = self.processing(address)\n",
    "        self.post_code = self.to_post(address_new)\n",
    "\n",
    "        return self.post_code\n"
   ]
  },
  {
   "cell_type": "code",
   "execution_count": 95,
   "metadata": {},
   "outputs": [],
   "source": [
    "raku_df = post_code().run('東京都港区白金')"
   ]
  },
  {
   "cell_type": "code",
   "execution_count": 96,
   "metadata": {},
   "outputs": [
    {
     "data": {
      "text/plain": [
       "'108-0072'"
      ]
     },
     "execution_count": 96,
     "metadata": {},
     "output_type": "execute_result"
    }
   ],
   "source": [
    "print(raku_df)"
   ]
  }
 ],
 "metadata": {
  "kernelspec": {
   "display_name": "test",
   "language": "python",
   "name": "python3"
  },
  "language_info": {
   "codemirror_mode": {
    "name": "ipython",
    "version": 3
   },
   "file_extension": ".py",
   "mimetype": "text/x-python",
   "name": "python",
   "nbconvert_exporter": "python",
   "pygments_lexer": "ipython3",
   "version": "3.11.1"
  },
  "orig_nbformat": 4
 },
 "nbformat": 4,
 "nbformat_minor": 2
}
