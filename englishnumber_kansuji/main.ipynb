{
 "cells": [
  {
   "cell_type": "code",
   "execution_count": null,
   "metadata": {},
   "outputs": [],
   "source": [
    "import re"
   ]
  },
  {
   "cell_type": "code",
   "execution_count": null,
   "metadata": {},
   "outputs": [],
   "source": [
    "table = str.maketrans({\n",
    "        '1' : '一',\n",
    "        '2' : '二',\n",
    "        '3' : '三',\n",
    "        '4' : '四',\n",
    "        '5' : '五',\n",
    "        '6' : '六',\n",
    "        '7' : '七',\n",
    "        '8' : '八',\n",
    "        '9' : '九',\n",
    "        '１' : '一',\n",
    "        '２' : '二',\n",
    "        '３' : '三',\n",
    "        '４' : '四',\n",
    "        '５' : '五',\n",
    "        '６' : '六',\n",
    "        '７' : '七',\n",
    "        '８' : '八',\n",
    "        '９' : '九',\n",
    "    })\n",
    "\n",
    "pattern_compile = re.compile('[0-9０-９][0-9０-９]')"
   ]
  },
  {
   "cell_type": "code",
   "execution_count": null,
   "metadata": {},
   "outputs": [],
   "source": [
    "str_list = [re.sub(r'([0-9０-９])([0-9０-９])', r'\\1十\\2', i) if re.compile('[0-9０-９][0-9０-９]').search(i) else i for i in address_list]"
   ]
  },
  {
   "cell_type": "code",
   "execution_count": null,
   "metadata": {},
   "outputs": [],
   "source": [
    "result = [s.translate(table).replace('*区','') for s in str_list]"
   ]
  }
 ],
 "metadata": {
  "language_info": {
   "name": "python"
  },
  "orig_nbformat": 4
 },
 "nbformat": 4,
 "nbformat_minor": 2
}
