{
 "cells": [
  {
   "cell_type": "code",
   "execution_count": 10,
   "metadata": {},
   "outputs": [],
   "source": [
    "import ndjson\n",
    "import json\n",
    "import os\n",
    "\n",
    "def to_json(path):\n",
    "    dir_name, base_name = os.path.split(path)\n",
    "    \n",
    "    with open(path, encoding='UTF-8') as f:\n",
    "        input_data = ndjson.load(f)\n",
    "    \n",
    "    with open(os.path.join(dir_name, base_name[:-6]+'json'), 'w') as f:\n",
    "        json.dump(input_data, f, indent=4)"
   ]
  },
  {
   "cell_type": "code",
   "execution_count": 11,
   "metadata": {},
   "outputs": [],
   "source": [
    "to_json('/Users/katsumori/Downloads/prefecture.ndjson')"
   ]
  },
  {
   "cell_type": "code",
   "execution_count": null,
   "metadata": {},
   "outputs": [],
   "source": []
  }
 ],
 "metadata": {
  "kernelspec": {
   "display_name": "main",
   "language": "python",
   "name": "python3"
  },
  "language_info": {
   "codemirror_mode": {
    "name": "ipython",
    "version": 3
   },
   "file_extension": ".py",
   "mimetype": "text/x-python",
   "name": "python",
   "nbconvert_exporter": "python",
   "pygments_lexer": "ipython3",
   "version": "3.12.0"
  }
 },
 "nbformat": 4,
 "nbformat_minor": 2
}
