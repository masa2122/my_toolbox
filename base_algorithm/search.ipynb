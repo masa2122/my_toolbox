{
 "cells": [
  {
   "cell_type": "markdown",
   "metadata": {},
   "source": [
    "# 探索アルゴリズム"
   ]
  },
  {
   "cell_type": "code",
   "execution_count": 6,
   "metadata": {},
   "outputs": [],
   "source": [
    "data = [2,3,7,5,1,6,4,10,8,9]\n",
    "target1 = 7\n",
    "target2 = 9\n",
    "target3 = 0"
   ]
  },
  {
   "cell_type": "markdown",
   "metadata": {},
   "source": [
    "## 線形探索\n",
    "- １から探していく\n",
    "- ターゲットが最後の方に有ると時間がかかる"
   ]
  },
  {
   "cell_type": "code",
   "execution_count": 8,
   "metadata": {},
   "outputs": [],
   "source": [
    "def linear(data, target):\n",
    "    for i in range(len(data)):\n",
    "        if data[i] == target:\n",
    "            return i\n",
    "    return -1"
   ]
  },
  {
   "cell_type": "code",
   "execution_count": 15,
   "metadata": {},
   "outputs": [
    {
     "name": "stdout",
     "output_type": "stream",
     "text": [
      "2\n",
      "9\n",
      "-1\n"
     ]
    }
   ],
   "source": [
    "print(linear(data, target1))\n",
    "print(linear(data, target2))\n",
    "print(linear(data, target3))"
   ]
  },
  {
   "cell_type": "markdown",
   "metadata": {},
   "source": [
    "## 二分探索\n",
    "- 中央の値より大きいか小さいかを繰り返す\n",
    "- 線形より早い\n",
    "- 初めにソートされている必要がある"
   ]
  },
  {
   "cell_type": "code",
   "execution_count": 16,
   "metadata": {},
   "outputs": [],
   "source": [
    "def binary(data, target):\n",
    "    left = 0\n",
    "    right = len(data) - 1\n",
    "    \n",
    "    while left <= right:\n",
    "        center = (left + right) // 2\n",
    "        if data[center] == target:\n",
    "            return center\n",
    "        elif data[center] < target:\n",
    "            left = center + 1\n",
    "        else:\n",
    "            right = center - 1\n",
    "    return -1"
   ]
  },
  {
   "cell_type": "code",
   "execution_count": null,
   "metadata": {},
   "outputs": [],
   "source": [
    "print(binary(data, target1))\n",
    "print(binary(data, target2))\n",
    "print(binary(data, target3))"
   ]
  },
  {
   "cell_type": "markdown",
   "metadata": {},
   "source": [
    "## ハッシュ探索\n",
    "リスト内のハッシュ化した辞書を作って、検索値を検索することで値があるかわかる"
   ]
  },
  {
   "cell_type": "code",
   "execution_count": 20,
   "metadata": {},
   "outputs": [],
   "source": [
    "data2 = ['Hokkaido','Aomori','Akita','Tokyo','Kanagawa']"
   ]
  },
  {
   "cell_type": "code",
   "execution_count": 17,
   "metadata": {},
   "outputs": [],
   "source": [
    "import hashlib\n",
    "# ハッシュ化　encode()=バイト列に変換, hexdigest()=16進数形式にしてくれる\n",
    "hashed = hashlib.sha256('Tokyo'.encode()).hexdigest()"
   ]
  },
  {
   "cell_type": "code",
   "execution_count": 18,
   "metadata": {},
   "outputs": [],
   "source": [
    "def myhash(string):\n",
    "    # 数字は素数にしたほうが重複しにくい\n",
    "    h = 0\n",
    "    for s in string:\n",
    "        # ord=文字を数字に変換\n",
    "        h = h * 104683 + ord(s)\n",
    "    return h % 103451"
   ]
  },
  {
   "cell_type": "code",
   "execution_count": 19,
   "metadata": {},
   "outputs": [],
   "source": [
    "hash_table = [0]*103451"
   ]
  },
  {
   "cell_type": "code",
   "execution_count": 22,
   "metadata": {},
   "outputs": [],
   "source": [
    "# 単語をハッシュ化して格納\n",
    "# ハッシュ化した番号に単語を格納\n",
    "for d in data2:\n",
    "    hash_table[myhash(d)] = d"
   ]
  },
  {
   "cell_type": "code",
   "execution_count": 23,
   "metadata": {},
   "outputs": [
    {
     "data": {
      "text/plain": [
       "'Tokyo'"
      ]
     },
     "execution_count": 23,
     "metadata": {},
     "output_type": "execute_result"
    }
   ],
   "source": [
    "# 値あり\n",
    "hash_table[myhash(\"Tokyo\")]"
   ]
  },
  {
   "cell_type": "code",
   "execution_count": 24,
   "metadata": {},
   "outputs": [
    {
     "data": {
      "text/plain": [
       "0"
      ]
     },
     "execution_count": 24,
     "metadata": {},
     "output_type": "execute_result"
    }
   ],
   "source": [
    "# 値なし\n",
    "hash_table[myhash(\"Tok\")]"
   ]
  }
 ],
 "metadata": {
  "kernelspec": {
   "display_name": "main",
   "language": "python",
   "name": "python3"
  },
  "language_info": {
   "codemirror_mode": {
    "name": "ipython",
    "version": 3
   },
   "file_extension": ".py",
   "mimetype": "text/x-python",
   "name": "python",
   "nbconvert_exporter": "python",
   "pygments_lexer": "ipython3",
   "version": "3.12.0"
  }
 },
 "nbformat": 4,
 "nbformat_minor": 2
}
