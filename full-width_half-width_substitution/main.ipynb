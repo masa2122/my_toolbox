{
 "cells": [
  {
   "cell_type": "code",
   "execution_count": 9,
   "metadata": {},
   "outputs": [],
   "source": [
    "import pandas as pd"
   ]
  },
  {
   "cell_type": "code",
   "execution_count": 10,
   "metadata": {},
   "outputs": [],
   "source": [
    "hankaku_table = str.maketrans({\n",
    "    '1': '１',\n",
    "    '2': '２',\n",
    "    '3': '３',\n",
    "    '4': '４',\n",
    "    '5': '５',\n",
    "    '6': '６',\n",
    "    '7': '７',\n",
    "    '8': '８',\n",
    "    '9': '９',\n",
    "    '0': '０',\n",
    "})\n",
    "\n",
    "zenkaku_table = str.maketrans({\n",
    "    '１': '1',\n",
    "    '２': '2',\n",
    "    '３': '3',\n",
    "    '４': '4',\n",
    "    '５': '5',\n",
    "    '６': '6',\n",
    "    '７': '7',\n",
    "    '８': '8',\n",
    "    '９': '9',\n",
    "    '０': '0',\n",
    "})\n",
    "\n",
    "hankaku_mark_table = str.maketrans({\n",
    "    '。': '.',\n",
    "    '、': ',',\n",
    "})\n",
    "\n",
    "zenkaku_mark_table = str.maketrans({\n",
    "    '.': '。',\n",
    "    ',': '、',\n",
    "})\n"
   ]
  },
  {
   "cell_type": "code",
   "execution_count": 11,
   "metadata": {},
   "outputs": [],
   "source": [
    "word = \"１1２2。、.,\""
   ]
  },
  {
   "cell_type": "code",
   "execution_count": 12,
   "metadata": {},
   "outputs": [],
   "source": [
    "hankaku_result = word.translate(zenkaku_table)\n",
    "zenkaku_result = word.translate(hankaku_table)\n",
    "hankaku_mark_result = word.translate(hankaku_mark_table)\n",
    "zenkaku_mark_result = word.translate(zenkaku_mark_table)"
   ]
  },
  {
   "cell_type": "code",
   "execution_count": 13,
   "metadata": {},
   "outputs": [
    {
     "name": "stdout",
     "output_type": "stream",
     "text": [
      "１1２2。、.,\n",
      "1122。、.,\n",
      "１１２２。、.,\n",
      "１1２2.,.,\n",
      "１1２2。、。、\n"
     ]
    }
   ],
   "source": [
    "print(word)\n",
    "print(hankaku_result)\n",
    "print(zenkaku_result)\n",
    "print(hankaku_mark_result)\n",
    "print(zenkaku_mark_result)"
   ]
  },
  {
   "cell_type": "code",
   "execution_count": 14,
   "metadata": {},
   "outputs": [
    {
     "data": {
      "text/html": [
       "<div>\n",
       "<style scoped>\n",
       "    .dataframe tbody tr th:only-of-type {\n",
       "        vertical-align: middle;\n",
       "    }\n",
       "\n",
       "    .dataframe tbody tr th {\n",
       "        vertical-align: top;\n",
       "    }\n",
       "\n",
       "    .dataframe thead th {\n",
       "        text-align: right;\n",
       "    }\n",
       "</style>\n",
       "<table border=\"1\" class=\"dataframe\">\n",
       "  <thead>\n",
       "    <tr style=\"text-align: right;\">\n",
       "      <th></th>\n",
       "      <th>A</th>\n",
       "      <th>B</th>\n",
       "    </tr>\n",
       "  </thead>\n",
       "  <tbody>\n",
       "    <tr>\n",
       "      <th>0</th>\n",
       "      <td>1１</td>\n",
       "      <td>12</td>\n",
       "    </tr>\n",
       "    <tr>\n",
       "      <th>1</th>\n",
       "      <td>２1</td>\n",
       "      <td>22</td>\n",
       "    </tr>\n",
       "    <tr>\n",
       "      <th>2</th>\n",
       "      <td>３1</td>\n",
       "      <td>32</td>\n",
       "    </tr>\n",
       "    <tr>\n",
       "      <th>3</th>\n",
       "      <td>１１</td>\n",
       "      <td>45</td>\n",
       "    </tr>\n",
       "    <tr>\n",
       "      <th>4</th>\n",
       "      <td>11</td>\n",
       "      <td>85</td>\n",
       "    </tr>\n",
       "  </tbody>\n",
       "</table>\n",
       "</div>"
      ],
      "text/plain": [
       "    A   B\n",
       "0  1１  12\n",
       "1  ２1  22\n",
       "2  ３1  32\n",
       "3  １１  45\n",
       "4  11  85"
      ]
     },
     "execution_count": 14,
     "metadata": {},
     "output_type": "execute_result"
    }
   ],
   "source": [
    "df = pd.DataFrame({'A': ['1１', '２1', '３1', '１１', '11'], 'B': ['12', '22', '32', '45', '85']})\n",
    "df"
   ]
  },
  {
   "cell_type": "code",
   "execution_count": 15,
   "metadata": {},
   "outputs": [],
   "source": [
    "df[\"C\"] = df[\"A\"].apply(lambda x: x.translate(zenkaku_table))\n",
    "df[\"D\"] = df[\"A\"].apply(lambda x: x.translate(hankaku_table))"
   ]
  },
  {
   "cell_type": "code",
   "execution_count": 16,
   "metadata": {},
   "outputs": [
    {
     "data": {
      "text/html": [
       "<div>\n",
       "<style scoped>\n",
       "    .dataframe tbody tr th:only-of-type {\n",
       "        vertical-align: middle;\n",
       "    }\n",
       "\n",
       "    .dataframe tbody tr th {\n",
       "        vertical-align: top;\n",
       "    }\n",
       "\n",
       "    .dataframe thead th {\n",
       "        text-align: right;\n",
       "    }\n",
       "</style>\n",
       "<table border=\"1\" class=\"dataframe\">\n",
       "  <thead>\n",
       "    <tr style=\"text-align: right;\">\n",
       "      <th></th>\n",
       "      <th>A</th>\n",
       "      <th>B</th>\n",
       "      <th>C</th>\n",
       "      <th>D</th>\n",
       "    </tr>\n",
       "  </thead>\n",
       "  <tbody>\n",
       "    <tr>\n",
       "      <th>0</th>\n",
       "      <td>1１</td>\n",
       "      <td>12</td>\n",
       "      <td>11</td>\n",
       "      <td>１１</td>\n",
       "    </tr>\n",
       "    <tr>\n",
       "      <th>1</th>\n",
       "      <td>２1</td>\n",
       "      <td>22</td>\n",
       "      <td>21</td>\n",
       "      <td>２１</td>\n",
       "    </tr>\n",
       "    <tr>\n",
       "      <th>2</th>\n",
       "      <td>３1</td>\n",
       "      <td>32</td>\n",
       "      <td>31</td>\n",
       "      <td>３１</td>\n",
       "    </tr>\n",
       "    <tr>\n",
       "      <th>3</th>\n",
       "      <td>１１</td>\n",
       "      <td>45</td>\n",
       "      <td>11</td>\n",
       "      <td>１１</td>\n",
       "    </tr>\n",
       "    <tr>\n",
       "      <th>4</th>\n",
       "      <td>11</td>\n",
       "      <td>85</td>\n",
       "      <td>11</td>\n",
       "      <td>１１</td>\n",
       "    </tr>\n",
       "  </tbody>\n",
       "</table>\n",
       "</div>"
      ],
      "text/plain": [
       "    A   B   C   D\n",
       "0  1１  12  11  １１\n",
       "1  ２1  22  21  ２１\n",
       "2  ３1  32  31  ３１\n",
       "3  １１  45  11  １１\n",
       "4  11  85  11  １１"
      ]
     },
     "execution_count": 16,
     "metadata": {},
     "output_type": "execute_result"
    }
   ],
   "source": [
    "df"
   ]
  },
  {
   "cell_type": "code",
   "execution_count": null,
   "metadata": {},
   "outputs": [],
   "source": []
  }
 ],
 "metadata": {
  "kernelspec": {
   "display_name": "test",
   "language": "python",
   "name": "python3"
  },
  "language_info": {
   "codemirror_mode": {
    "name": "ipython",
    "version": 3
   },
   "file_extension": ".py",
   "mimetype": "text/x-python",
   "name": "python",
   "nbconvert_exporter": "python",
   "pygments_lexer": "ipython3",
   "version": "3.11.1"
  },
  "orig_nbformat": 4
 },
 "nbformat": 4,
 "nbformat_minor": 2
}
