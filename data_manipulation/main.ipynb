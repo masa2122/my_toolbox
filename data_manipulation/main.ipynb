{
 "cells": [
  {
   "cell_type": "markdown",
   "metadata": {},
   "source": [
    "# データ分割"
   ]
  },
  {
   "cell_type": "code",
   "execution_count": null,
   "metadata": {},
   "outputs": [],
   "source": [
    "# 分割\n",
    "from sklearn.model_selection import train_test_split\n",
    "\n",
    "def split_data(data):\n",
    "    train, provisional_test = train_test_split(data, train_size=0.7)\n",
    "\n",
    "    test, val = train_test_split(provisional_test, train_size=0.7)\n",
    "    return train, test, val"
   ]
  },
  {
   "cell_type": "markdown",
   "metadata": {},
   "source": [
    "# jsonのラベル数をカウント\n",
    "\n",
    "\n",
    "JSONによって['label']をへんこうする"
   ]
  },
  {
   "cell_type": "code",
   "execution_count": null,
   "metadata": {},
   "outputs": [],
   "source": [
    "import collections\n",
    "import json\n",
    "\n",
    "def read_json(data):\n",
    "    stock_label = []\n",
    "    for i in data:\n",
    "        with open(i) as f:\n",
    "            json_data = json.load(f)\n",
    "        \n",
    "        for j in json_data:\n",
    "            stock_label.append(j['label'])\n",
    "    count_label = collections.Counter(stock_label)\n",
    "    return count_label"
   ]
  },
  {
   "cell_type": "markdown",
   "metadata": {},
   "source": [
    "# リストをcsvで保存"
   ]
  },
  {
   "cell_type": "code",
   "execution_count": null,
   "metadata": {},
   "outputs": [],
   "source": [
    "import csv\n",
    "\n",
    "csv_path_v1 = './ddd/aaa/json_v1.csv'\n",
    "with open(csv_path_v1, 'w',newline=\"\") as file:\n",
    "    writer = csv.writer(file)\n",
    "    writer.writerow(stock_label_v1[index_v1])"
   ]
  },
  {
   "cell_type": "markdown",
   "metadata": {},
   "source": [
    "# ファイルの移動、コピー"
   ]
  },
  {
   "cell_type": "code",
   "execution_count": null,
   "metadata": {},
   "outputs": [],
   "source": [
    "import shutil\n",
    "import os\n",
    "\n",
    "for i in json_list_v1:\n",
    "    shutil.copy(os.path.join(image_v1, os.path.splitext(os.path.basename(i))[0]+'.jpg'), './ddd/aaa/data/')\n",
    "    shutil.move(os.path.join(image_v1, os.path.splitext(os.path.basename(i))[0]+'.jpg'), './ddd/aaa/data/')"
   ]
  },
  {
   "cell_type": "markdown",
   "metadata": {},
   "source": [
    "# image破損チェック"
   ]
  },
  {
   "cell_type": "code",
   "execution_count": null,
   "metadata": {},
   "outputs": [],
   "source": [
    "from pathlib import Path\n",
    "from PIL import Image # Pillow ライブラリ\n",
    "\n",
    "for i in list_image:\n",
    "    image_file = Path(f'/ddd/aaa/{i}')\n",
    "    with image_file.open('rb') as f:\n",
    "        im = Image.open(f, 'r')\n",
    "        im.verify()"
   ]
  },
  {
   "cell_type": "markdown",
   "metadata": {},
   "source": [
    "# json破損チェック"
   ]
  },
  {
   "cell_type": "code",
   "execution_count": null,
   "metadata": {},
   "outputs": [],
   "source": [
    "import json\n",
    "# json破損チェック\n",
    "for i in list_json:\n",
    "    sample_path = f'/ddd/aaa/{i}'\n",
    "    with open(sample_path) as f:\n",
    "        json_data = json.load(f)\n",
    "        \n",
    "        if len(json_data) == 0:\n",
    "            print(json_data)"
   ]
  },
  {
   "cell_type": "markdown",
   "metadata": {},
   "source": [
    "# ファイルリストの取得"
   ]
  },
  {
   "cell_type": "code",
   "execution_count": null,
   "metadata": {},
   "outputs": [],
   "source": [
    "list_image = [i for i in os.listdir('/ddd/aaa') if os.path.splitext(i)[1] == 'jpg']\n",
    "list_json = [i for i in os.listdir('/ddd/aaa') if os.path.splitext(i)[1] == 'json']"
   ]
  }
 ],
 "metadata": {
  "language_info": {
   "name": "python"
  }
 },
 "nbformat": 4,
 "nbformat_minor": 2
}
